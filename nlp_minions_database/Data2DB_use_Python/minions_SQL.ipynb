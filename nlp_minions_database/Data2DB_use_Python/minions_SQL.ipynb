{
 "cells": [
  {
   "cell_type": "markdown",
   "metadata": {},
   "source": [
    "## **DataBase**"
   ]
  },
  {
   "cell_type": "markdown",
   "metadata": {},
   "source": [
    "### **연결**"
   ]
  },
  {
   "cell_type": "code",
   "execution_count": 1,
   "metadata": {},
   "outputs": [],
   "source": [
    "import pymysql\n",
    "\n",
    "WL_DB = pymysql.connect(host='220.90.200.176',\n",
    "                       port=3306,\n",
    "                       user='multi',\n",
    "                       passwd='multi!)@(',\n",
    "                       db = 'SocialAnalysis',\n",
    "                       charset='utf8')\n",
    "\n",
    "cursor = WL_DB.cursor()"
   ]
  },
  {
   "cell_type": "markdown",
   "metadata": {},
   "source": [
    "### **검색**"
   ]
  },
  {
   "cell_type": "code",
   "execution_count": 2,
   "metadata": {},
   "outputs": [
    {
     "name": "stdout",
     "output_type": "stream",
     "text": [
      "()\n"
     ]
    }
   ],
   "source": [
    "sql = \"\"\"\n",
    "    SELECT * FROM POST_4\n",
    "\"\"\"\n",
    "\n",
    "cursor.execute(sql)\n",
    "re = cursor.fetchall()\n",
    "\n",
    "print(re)"
   ]
  },
  {
   "cell_type": "markdown",
   "metadata": {},
   "source": [
    "### **삽입**"
   ]
  },
  {
   "cell_type": "code",
   "execution_count": 3,
   "metadata": {},
   "outputs": [],
   "source": [
    "sql2 = \"\"\"\n",
    "    INSERT INTO POST_4(shortcode, inner_id, post_date, crawling_time, like_count, view_count, url, media_url, content, region_tag, hashtag, team_idx)\n",
    "    VALUES ('CB-kragHtB1', '3233588', '2020-06-28 20:50:17', '2020-09-05 01:07:03', 44, 11, 'https://www.instagram.com/p/CB-kragHtB1/', 'https://scontent-gmp1-1.cdninstagram.com/v/t51...', 'text', 'test', 'test', 4)\n",
    "\"\"\"\n",
    "\n",
    "cursor.execute(sql2)\n",
    "WL_DB.commit()"
   ]
  },
  {
   "cell_type": "code",
   "execution_count": 4,
   "metadata": {},
   "outputs": [
    {
     "name": "stdout",
     "output_type": "stream",
     "text": [
      "((4, 'CB-kragHtB1', '3233588', datetime.datetime(2020, 6, 28, 20, 50, 17), datetime.datetime(2020, 9, 5, 1, 7, 3), 44, 11, 'https://www.instagram.com/p/CB-kragHtB1/', 'https://scontent-gmp1-1.cdninstagram.com/v/t51...', 'text', 'test', 'test', 4),)\n"
     ]
    }
   ],
   "source": [
    "sql = \"\"\"\n",
    "    SELECT * FROM POST_4\n",
    "\"\"\"\n",
    "\n",
    "cursor.execute(sql)\n",
    "re = cursor.fetchall()\n",
    "\n",
    "print(re)"
   ]
  },
  {
   "cell_type": "markdown",
   "metadata": {},
   "source": [
    "### **수정**"
   ]
  },
  {
   "cell_type": "code",
   "execution_count": 5,
   "metadata": {},
   "outputs": [],
   "source": [
    "sql3 = \"\"\"\n",
    "    UPDATE POST_4\n",
    "    SET view_count = 33\n",
    "    WHERE inner_id = '3233588'\n",
    "\"\"\"\n",
    "\n",
    "cursor.execute(sql3)\n",
    "WL_DB.commit()"
   ]
  },
  {
   "cell_type": "code",
   "execution_count": 6,
   "metadata": {},
   "outputs": [
    {
     "name": "stdout",
     "output_type": "stream",
     "text": [
      "((4, 'CB-kragHtB1', '3233588', datetime.datetime(2020, 6, 28, 20, 50, 17), datetime.datetime(2020, 9, 5, 1, 7, 3), 44, 33, 'https://www.instagram.com/p/CB-kragHtB1/', 'https://scontent-gmp1-1.cdninstagram.com/v/t51...', 'text', 'test', 'test', 4),)\n"
     ]
    }
   ],
   "source": [
    "sql = \"\"\"\n",
    "    SELECT * FROM POST_4\n",
    "\"\"\"\n",
    "\n",
    "cursor.execute(sql)\n",
    "re = cursor.fetchall()\n",
    "\n",
    "print(re)"
   ]
  },
  {
   "cell_type": "markdown",
   "metadata": {},
   "source": [
    "### **삭제**"
   ]
  },
  {
   "cell_type": "code",
   "execution_count": 7,
   "metadata": {},
   "outputs": [],
   "source": [
    "sql4 = \"\"\"\n",
    "    DELETE FROM POST_4 WHERE inner_id = '3233588'\n",
    "\"\"\"\n",
    "\n",
    "cursor.execute(sql4)\n",
    "WL_DB.commit()"
   ]
  },
  {
   "cell_type": "code",
   "execution_count": 8,
   "metadata": {},
   "outputs": [
    {
     "name": "stdout",
     "output_type": "stream",
     "text": [
      "()\n"
     ]
    }
   ],
   "source": [
    "sql = \"\"\"\n",
    "    SELECT * FROM POST_4\n",
    "\"\"\"\n",
    "\n",
    "cursor.execute(sql)\n",
    "re = cursor.fetchall()\n",
    "\n",
    "print(re)"
   ]
  },
  {
   "cell_type": "markdown",
   "metadata": {},
   "source": [
    "### **class화**"
   ]
  },
  {
   "cell_type": "code",
   "execution_count": null,
   "metadata": {},
   "outputs": [],
   "source": [
    "import pymysql\n",
    "\n",
    "\n",
    "class Python2DB():\n",
    "    def __init__(self):\n",
    "        self.WL_DB = pymysql.connect(host='220.90.200.176',\n",
    "                                     port=3306,\n",
    "                                     user='multi',\n",
    "                                     passwd='multi!)@(',\n",
    "                                     db = 'SocialAnalysis',\n",
    "                                     charset='utf8')\n",
    "        self.cursor = self.WL_DB.cursor()\n",
    "\n",
    "    def select(self):\n",
    "        sql_qr = \"\"\"\n",
    "            SELECT * FROM POST_4\n",
    "        \"\"\"\n",
    "        self.cursor.execute(sql_qr)\n",
    "        return self.cursor.fetchall()\n",
    "\n",
    "    def insert(self):\n",
    "        sql_qr2 = \"\"\"\n",
    "            INSERT INTO POST_4(shortcode, inner_id, post_date, crawling_time, like_count, view_count, url, media_url, content, region_tag, hashtag, team_idx)\n",
    "            VALUES ('CB-kragHtB1', '3233588', '2020-06-28 20:50:17', '2020-09-05 01:07:03', 44, 11, 'https://www.instagram.com/p/CB-kragHtB1/', 'https://scontent-gmp1-1.cdninstagram.com/v/t51...', 'text', 'test', 'test', 4)\n",
    "        \"\"\"\n",
    "        self.cursor.execute(sql_qr2)\n",
    "        self.WL_DB.commit()\n",
    "\n",
    "    def update(self):\n",
    "        sql_qr3 = \"\"\"\n",
    "            UPDATE POST_4\n",
    "            SET view_count = 33\n",
    "            WHERE inner_id = '3233588'\n",
    "        \"\"\"\n",
    "        self.cursor.execute(sql_qr3)\n",
    "        self.WL_DB.commit()\n",
    "\n",
    "    def delete(self):\n",
    "        sql_qr4 = \"\"\"\n",
    "            DELETE FROM POST_4 WHERE inner_id = '3233588'\n",
    "        \"\"\"\n",
    "        self.cursor.execute(sql_qr4)\n",
    "        self.WL_DB.commit()\n"
   ]
  },
  {
   "cell_type": "code",
   "execution_count": 9,
   "metadata": {},
   "outputs": [],
   "source": [
    "import pymysql\n",
    "\n",
    "\n",
    "class Python2DB():\n",
    "    def __init__(self):\n",
    "        self.WL_DB = pymysql.connect(host='220.90.200.176',\n",
    "                                     port=3306,\n",
    "                                     user='multi',\n",
    "                                     passwd='multi!)@(',\n",
    "                                     db = 'SocialAnalysis',\n",
    "                                     charset='utf8')\n",
    "        self.cursor = self.WL_DB.cursor()\n",
    "        \n",
    "    def select(self, table, column):\n",
    "        sql_qr = \"\"\"\n",
    "            SELECT {0} FROM {1}\n",
    "        \"\"\".format(column, table)\n",
    "        self.cursor.execute(sql_qr)\n",
    "        return self.cursor.fetchall()\n",
    "\n",
    "    def insert(self, table, columns, values):\n",
    "        sql_qr2 = \"\"\"\n",
    "            INSERT INTO {0}({1})\n",
    "            VALUES ({2})\n",
    "        \"\"\".format(table, columns, values)\n",
    "        self.cursor.execute(sql_qr2)\n",
    "        self.WL_DB.commit()\n",
    "\n",
    "    def update(self, table, set_content, where_content):\n",
    "        sql_qr3 = \"\"\"\n",
    "            UPDATE {0}\n",
    "            SET {1}\n",
    "            WHERE {2}\n",
    "        \"\"\".format(table, set_content, where_content)\n",
    "        self.cursor.execute(sql_qr3)\n",
    "        self.WL_DB.commit()\n",
    "\n",
    "    def delete(self, table, where_content):\n",
    "        sql_qr4 = \"\"\"\n",
    "            DELETE FROM {0} WHERE {1}\n",
    "        \"\"\".format(table, where_content)\n",
    "        self.cursor.execute(sql_qr4)\n",
    "        self.WL_DB.commit()"
   ]
  },
  {
   "cell_type": "code",
   "execution_count": 10,
   "metadata": {},
   "outputs": [],
   "source": [
    "db_test = Python2DB()"
   ]
  },
  {
   "cell_type": "code",
   "execution_count": 11,
   "metadata": {},
   "outputs": [
    {
     "data": {
      "text/plain": [
       "()"
      ]
     },
     "execution_count": 11,
     "metadata": {},
     "output_type": "execute_result"
    }
   ],
   "source": [
    "db_test.select('POST_4', '*')"
   ]
  },
  {
   "cell_type": "code",
   "execution_count": 12,
   "metadata": {},
   "outputs": [
    {
     "data": {
      "text/plain": [
       "((5,\n",
       "  'CB-kragHtB1',\n",
       "  '3233588',\n",
       "  datetime.datetime(2020, 6, 28, 20, 50, 17),\n",
       "  datetime.datetime(2020, 9, 5, 1, 7, 3),\n",
       "  44,\n",
       "  11,\n",
       "  'https://www.instagram.com/p/CB-kragHtB1/',\n",
       "  'https://scontent-gmp1-1.cdninstagram.com/v/t51...',\n",
       "  'text',\n",
       "  'test',\n",
       "  'test',\n",
       "  4),)"
      ]
     },
     "execution_count": 12,
     "metadata": {},
     "output_type": "execute_result"
    }
   ],
   "source": [
    "db_test.insert('POST_4', 'shortcode, inner_id, post_date, crawling_time, like_count, view_count, url, media_url, content, region_tag, hashtag, team_idx',\n",
    "               \"'CB-kragHtB1', '3233588', '2020-06-28 20:50:17', '2020-09-05 01:07:03', 44, 11, 'https://www.instagram.com/p/CB-kragHtB1/', 'https://scontent-gmp1-1.cdninstagram.com/v/t51...', 'text', 'test', 'test', 4\")\n",
    "db_test.select('POST_4', '*')"
   ]
  },
  {
   "cell_type": "code",
   "execution_count": 13,
   "metadata": {},
   "outputs": [
    {
     "data": {
      "text/plain": [
       "((5,\n",
       "  'CB-kragHtB1',\n",
       "  '3233588',\n",
       "  datetime.datetime(2020, 6, 28, 20, 50, 17),\n",
       "  datetime.datetime(2020, 9, 5, 1, 7, 3),\n",
       "  44,\n",
       "  33,\n",
       "  'https://www.instagram.com/p/CB-kragHtB1/',\n",
       "  'https://scontent-gmp1-1.cdninstagram.com/v/t51...',\n",
       "  'text',\n",
       "  'test',\n",
       "  'test',\n",
       "  4),)"
      ]
     },
     "execution_count": 13,
     "metadata": {},
     "output_type": "execute_result"
    }
   ],
   "source": [
    "db_test.update('POST_4', \"view_count = 33\", \"inner_id = '3233588'\")\n",
    "db_test.select('POST_4', '*')"
   ]
  },
  {
   "cell_type": "code",
   "execution_count": 14,
   "metadata": {},
   "outputs": [
    {
     "data": {
      "text/plain": [
       "()"
      ]
     },
     "execution_count": 14,
     "metadata": {},
     "output_type": "execute_result"
    }
   ],
   "source": [
    "db_test.delete('POST_4', \"inner_id = '3233588'\")\n",
    "db_test.select('POST_4', '*')"
   ]
  },
  {
   "cell_type": "code",
   "execution_count": null,
   "metadata": {},
   "outputs": [],
   "source": []
  }
 ],
 "metadata": {
  "kernelspec": {
   "display_name": "Python 3",
   "language": "python",
   "name": "python3"
  },
  "language_info": {
   "codemirror_mode": {
    "name": "ipython",
    "version": 3
   },
   "file_extension": ".py",
   "mimetype": "text/x-python",
   "name": "python",
   "nbconvert_exporter": "python",
   "pygments_lexer": "ipython3",
   "version": "3.6.8"
  }
 },
 "nbformat": 4,
 "nbformat_minor": 4
}
