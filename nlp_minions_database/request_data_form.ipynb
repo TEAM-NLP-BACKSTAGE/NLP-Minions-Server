{
 "cells": [
  {
   "cell_type": "code",
   "execution_count": 1,
   "metadata": {},
   "outputs": [
    {
     "data": {
      "text/plain": [
       "[{'start': '11515015151',\n",
       "  'end': '5151515482626',\n",
       "  'relation_type': 'tag',\n",
       "  'shortcode': '2383339247275607990'},\n",
       " {'start': '11515015151', 'end': '5151515482626', 'relation_type': 'follow'}]"
      ]
     },
     "execution_count": 1,
     "metadata": {},
     "output_type": "execute_result"
    }
   ],
   "source": [
    "data = [\n",
    "            {\n",
    "              \"start\" : \"11515015151\",\n",
    "              \"end\" : \"5151515482626\",\n",
    "              \"relation_type\" : \"tag\",\n",
    "              \"shortcode\" : \"2383339247275607990\"\n",
    "            },\n",
    "        {\n",
    "              \"start\" : \"11515015151\",\n",
    "              \"end\" : \"5151515482626\",\n",
    "              \"relation_type\" : \"follow\"\n",
    "            },\n",
    "        ]\n",
    "data"
   ]
  },
  {
   "cell_type": "code",
   "execution_count": 2,
   "metadata": {},
   "outputs": [
    {
     "data": {
      "text/plain": [
       "{'data': [{'start': '11515015151',\n",
       "   'end': '5151515482626',\n",
       "   'relation_type': 'tag',\n",
       "   'shortcode': '2383339247275607990'},\n",
       "  {'start': '11515015151', 'end': '5151515482626', 'relation_type': 'follow'}]}"
      ]
     },
     "execution_count": 2,
     "metadata": {},
     "output_type": "execute_result"
    }
   ],
   "source": [
    "data_dic = {}\n",
    "data_dic[\"data\"] = data\n",
    "data_dic"
   ]
  },
  {
   "cell_type": "code",
   "execution_count": 3,
   "metadata": {},
   "outputs": [],
   "source": [
    "# 서버를 통해서 디비로 데이터 전송(클래스화 예정)\n",
    "import requests \n",
    "\n",
    "# response = requests.get(URL) \n",
    "# response.status_code \n",
    "# response.text\n",
    "\n",
    "def input_follow_data(self, data):\n",
    "    follow_URL = 'http://220.90.200.172:3000/data/network' \n",
    "    follow_data_dic = {}\n",
    "    follow_data_dic[\"data\"] = data\n",
    "    follow_res = requests.post(follow_URL, data=follow_data_dic)\n",
    "    return follow_res\n",
    "\n",
    "def input_user_data(self, data):\n",
    "    user_URL = 'http://220.90.200.172:3000/data/user' \n",
    "    user_data_dic = {}\n",
    "    user_data_dic[\"data\"] = data\n",
    "    user_res = requests.post(user_URL, data=user_data_dic)\n",
    "    return user_res\n",
    "\n",
    "def input_post_data(self, data):\n",
    "    post_URL = 'http://220.90.200.172:3000/data/post' \n",
    "    post_data_dic = {}\n",
    "    post_data_dic[\"data\"] = data\n",
    "    post_res = requests.post(post_URL, data=post_data_dic)\n",
    "    return post_res\n",
    "\n",
    "def input_reply_data(self, data):\n",
    "    reply_URL = 'http://220.90.200.172:3000/data/reply'\n",
    "    reply_data_dic = {}\n",
    "    reply_data_dic[\"data\"] = data\n",
    "    reply_res = requests.post(reply_URL, data=reply_data_dic)\n",
    "    return reply_res"
   ]
  },
  {
   "cell_type": "code",
   "execution_count": null,
   "metadata": {},
   "outputs": [],
   "source": []
  }
 ],
 "metadata": {
  "kernelspec": {
   "display_name": "Python 3",
   "language": "python",
   "name": "python3"
  },
  "language_info": {
   "codemirror_mode": {
    "name": "ipython",
    "version": 3
   },
   "file_extension": ".py",
   "mimetype": "text/x-python",
   "name": "python",
   "nbconvert_exporter": "python",
   "pygments_lexer": "ipython3",
   "version": "3.6.8"
  }
 },
 "nbformat": 4,
 "nbformat_minor": 4
}
